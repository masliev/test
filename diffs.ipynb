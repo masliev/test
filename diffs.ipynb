{
 "cells": [
  {
   "cell_type": "code",
   "execution_count": 113,
   "metadata": {},
   "outputs": [],
   "source": [
    "import pandas as pd\n",
    "import numpy as np"
   ]
  },
  {
   "cell_type": "code",
   "execution_count": 270,
   "metadata": {},
   "outputs": [],
   "source": [
    "# подгружаем данные из настроек\n",
    "df2 = pd.read_excel('Настройки-Ленинский_147-2020-03-25.xlsx')"
   ]
  },
  {
   "cell_type": "code",
   "execution_count": 271,
   "metadata": {},
   "outputs": [],
   "source": [
    "sett_filter_street = df2['street']=='Ленинский'\n",
    "sett_filter_house = df2['house']==147\n",
    "sett_filter_add_info = df2['add_info']=='А'\n",
    "sett_filter_add_info_negative = df2['add_info']!='А'"
   ]
  },
  {
   "cell_type": "code",
   "execution_count": 272,
   "metadata": {},
   "outputs": [],
   "source": [
    "sett_subset_147 = df2.copy()\n",
    "sett_subset_147_a = df2.copy()"
   ]
  },
  {
   "cell_type": "code",
   "execution_count": 273,
   "metadata": {},
   "outputs": [],
   "source": [
    "sett_subset_147_a.where(sett_filter_street & sett_filter_house & sett_filter_add_info, inplace = True)\n",
    "sett_subset_147.where(sett_filter_street & sett_filter_house & sett_filter_add_info_negative, inplace = True) "
   ]
  },
  {
   "cell_type": "code",
   "execution_count": 274,
   "metadata": {},
   "outputs": [],
   "source": [
    "# подгружаем данные реестра \n",
    "df1 = pd.read_excel('Реестр-Ленинский_147-2020-03-29.xlsx', header=[11,12,13])"
   ]
  },
  {
   "cell_type": "code",
   "execution_count": 275,
   "metadata": {},
   "outputs": [
    {
     "data": {
      "text/plain": [
       "[('Обязательное поле', 'Название улицы', 'Unnamed: 0_level_2'),\n",
       " ('Обязательное поле', 'Номер дома', 'Unnamed: 1_level_2'),\n",
       " ('Корпус, строение или литера ', 'Unnamed: 2_level_1', 'Unnamed: 2_level_2'),\n",
       " ('Дополнительная информация о доме',\n",
       "  'Unnamed: 3_level_1',\n",
       "  'Unnamed: 3_level_2'),\n",
       " ('Обязательное поле', '№ помещения', 'Unnamed: 4_level_2'),\n",
       " ('Обязательное поле',\n",
       "  'Площадь помещения в метрах квадратных',\n",
       "  'Unnamed: 5_level_2'),\n",
       " ('Доля владения в помещении.\\nЗаполните только один из 4-х вариантов!',\n",
       "  1,\n",
       "  'Номинатор/ Числитель'),\n",
       " ('Доля владения в помещении.\\nЗаполните только один из 4-х вариантов!',\n",
       "  1,\n",
       "  'Деноминатор/ Знаменатель'),\n",
       " ('Доля владения в помещении.\\nЗаполните только один из 4-х вариантов!',\n",
       "  2,\n",
       "  'Доля выраженная как простая дробь'),\n",
       " ('Доля владения в помещении.\\nЗаполните только один из 4-х вариантов!',\n",
       "  3,\n",
       "  'Доля владения в метрах квадратных'),\n",
       " ('Доля владения в помещении.\\nЗаполните только один из 4-х вариантов!',\n",
       "  4,\n",
       "  'Доля выраженная в %'),\n",
       " ('Подъезд', 'Unnamed: 11_level_1', 'Unnamed: 11_level_2'),\n",
       " ('Этаж', 'Unnamed: 12_level_1', 'Unnamed: 12_level_2'),\n",
       " ('Жилое или нежилое',\n",
       "  'Unnamed: 13_level_1',\n",
       "  'возможные варианты: ж / жилое / нж / нежилое / комната в ком.  квартире  '),\n",
       " ('Тип владения', 'Unnamed: 14_level_1', 'Долевая или Совместная'),\n",
       " ('Тип собственника',\n",
       "  'Unnamed: 15_level_1',\n",
       "  'возможные варианты: юр / ю / физ / ф /г(государственная)'),\n",
       " ('Участник сообщества: ТСН / ЖСК / ТСЖ / Кооператив и т.д.',\n",
       "  'Unnamed: 16_level_1',\n",
       "  'возможные варианты: + / - / да / нет'),\n",
       " ('Собственник физ.лицо/юр.лицо',\n",
       "  'Фамилия / Организационно-правовая форма',\n",
       "  'Unnamed: 17_level_2'),\n",
       " ('Собственник физ.лицо/юр.лицо', 'Имя/Название', 'Unnamed: 18_level_2'),\n",
       " ('Собственник физ.лицо/юр.лицо', 'Отчество / ОГРН', 'Unnamed: 19_level_2'),\n",
       " ('Собственник физ.лицо/юр.лицо', 'ИНН', 'Unnamed: 20_level_2'),\n",
       " ('Собственник физ.лицо/юр.лицо', 'ИНН', 'Unnamed: 21_level_2'),\n",
       " ('Собственник физ.лицо/юр.лицо', 'ИНН', 'Unnamed: 22_level_2'),\n",
       " ('Собственник физ.лицо/юр.лицо', 'ИНН', 'Unnamed: 23_level_2'),\n",
       " ('Собственник физ.лицо/юр.лицо', 'ИНН', 'Unnamed: 24_level_2'),\n",
       " ('Собственник физ.лицо/юр.лицо', 'ИНН', 'Unnamed: 25_level_2'),\n",
       " ('Собственник физ.лицо/юр.лицо', 'ИНН', 'Unnamed: 26_level_2'),\n",
       " ('Собственник физ.лицо/юр.лицо', 'ИНН', 'Unnamed: 27_level_2'),\n",
       " ('Собственник физ.лицо/юр.лицо', 'ИНН', 'Unnamed: 28_level_2'),\n",
       " ('Собственник физ.лицо/юр.лицо', 'ИНН', 'Unnamed: 29_level_2')]"
      ]
     },
     "execution_count": 275,
     "metadata": {},
     "output_type": "execute_result"
    }
   ],
   "source": [
    "# распечатываем названия полей составного индекаса\n",
    "list(df1.columns)"
   ]
  },
  {
   "cell_type": "code",
   "execution_count": 276,
   "metadata": {},
   "outputs": [],
   "source": [
    "# создаем набор фильтров для выборки домов на основании названия улицы, номера дома и доп. информации\n",
    "filter_name = df1[('Обязательное поле', 'Название улицы', 'Unnamed: 0_level_2')]=='Ленинский'\n",
    "filter_number = df1[('Обязательное поле', 'Номер дома', 'Unnamed: 1_level_2')]==147 \n",
    "filter_add_info = df1[('Дополнительная информация о доме', 'Unnamed: 3_level_1', 'Unnamed: 3_level_2')]=='А'\n",
    "filter_add_info_negative = df1[('Дополнительная информация о доме', 'Unnamed: 3_level_1', 'Unnamed: 3_level_2')]!='А'"
   ]
  },
  {
   "cell_type": "code",
   "execution_count": 277,
   "metadata": {},
   "outputs": [],
   "source": [
    "subset_147 = df1.copy()\n",
    "subset_147_a = df1.copy()"
   ]
  },
  {
   "cell_type": "code",
   "execution_count": 278,
   "metadata": {},
   "outputs": [],
   "source": [
    "subset_147.where(filter_name & filter_number & filter_add_info_negative, inplace = True)\n",
    "subset_147_a.where(filter_name & filter_number & filter_add_info, inplace = True)\n"
   ]
  },
  {
   "cell_type": "code",
   "execution_count": 279,
   "metadata": {},
   "outputs": [],
   "source": [
    "reg_sq_m_147 = subset_147[('Обязательное поле',\n",
    "  'Площадь помещения в метрах квадратных',\n",
    "  'Unnamed: 5_level_2')].sum()\n",
    "reg_sq_m_147_a = subset_147_a[('Обязательное поле',\n",
    "  'Площадь помещения в метрах квадратных',\n",
    "  'Unnamed: 5_level_2')].sum()\n",
    "sett_sq_m_147 = sett_subset_147['sqm'].sum()\n",
    "sett_sq_m_147_a = sett_subset_147_a['sqm'].sum()"
   ]
  },
  {
   "cell_type": "code",
   "execution_count": 280,
   "metadata": {},
   "outputs": [
    {
     "name": "stdout",
     "output_type": "stream",
     "text": [
      "Неучтенная площадь в размере 18797 квадратных метров\n"
     ]
    }
   ],
   "source": [
    "if reg_sq_m_147!= sett_sq_m_147:\n",
    "    print('Неучтенная площадь в размере %i квадратных метров'%(reg_sq_m_147-sett_sq_m_147))"
   ]
  },
  {
   "cell_type": "code",
   "execution_count": 281,
   "metadata": {},
   "outputs": [
    {
     "name": "stdout",
     "output_type": "stream",
     "text": [
      "Неучтенная площадь в размере 7980 квадратных метров\n"
     ]
    }
   ],
   "source": [
    "if reg_sq_m_147_a!= sett_sq_m_147_a:\n",
    "    print('Неучтенная площадь в размере %i квадратных метров'%(reg_sq_m_147_a-sett_sq_m_147_a))"
   ]
  },
  {
   "cell_type": "code",
   "execution_count": 298,
   "metadata": {},
   "outputs": [],
   "source": [
    "reg_apt_147 = len(subset_147[('Обязательное поле', '№ помещения', 'Unnamed: 4_level_2')].unique())\n",
    "reg_apt_147_a = len(subset_147_a[('Обязательное поле', '№ помещения', 'Unnamed: 4_level_2')].unique())\n",
    "sett_apt_147 = sett_subset_147['appt'].sum()\n",
    "sett_apt_147_a = sett_subset_147_a['appt'].sum()\n"
   ]
  },
  {
   "cell_type": "code",
   "execution_count": 303,
   "metadata": {},
   "outputs": [
    {
     "name": "stdout",
     "output_type": "stream",
     "text": [
      "Разница количества квартир в размере 1 единиц\n"
     ]
    }
   ],
   "source": [
    "if reg_apt_147!= sett_apt_147:\n",
    "    print('Разница количества квартир в размере %i единиц'%(abs(reg_apt_147-sett_apt_147)))"
   ]
  },
  {
   "cell_type": "code",
   "execution_count": 304,
   "metadata": {},
   "outputs": [
    {
     "name": "stdout",
     "output_type": "stream",
     "text": [
      "Неучтенное количество квартир в размере 4 единиц\n"
     ]
    }
   ],
   "source": [
    "if reg_apt_147_a!= sett_apt_147_a:\n",
    "    print('Неучтенное количество квартир в размере %i единиц'%(abs(reg_apt_147_a-sett_apt_147_a)))"
   ]
  },
  {
   "cell_type": "code",
   "execution_count": null,
   "metadata": {},
   "outputs": [],
   "source": []
  }
 ],
 "metadata": {
  "kernelspec": {
   "display_name": "Python 3",
   "language": "python",
   "name": "python3"
  },
  "language_info": {
   "codemirror_mode": {
    "name": "ipython",
    "version": 3
   },
   "file_extension": ".py",
   "mimetype": "text/x-python",
   "name": "python",
   "nbconvert_exporter": "python",
   "pygments_lexer": "ipython3",
   "version": "3.7.4"
  }
 },
 "nbformat": 4,
 "nbformat_minor": 4
}
